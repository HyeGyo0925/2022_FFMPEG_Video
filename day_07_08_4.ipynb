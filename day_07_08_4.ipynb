{
 "cells": [
  {
   "cell_type": "code",
   "execution_count": 3,
   "metadata": {},
   "outputs": [
    {
     "ename": "ModuleNotFoundError",
     "evalue": "No module named 'cv2'",
     "output_type": "error",
     "traceback": [
      "\u001b[1;31m---------------------------------------------------------------------------\u001b[0m",
      "\u001b[1;31mModuleNotFoundError\u001b[0m                       Traceback (most recent call last)",
      "\u001b[1;32m~\\AppData\\Local\\Temp/ipykernel_3272/3440900828.py\u001b[0m in \u001b[0;36m<module>\u001b[1;34m\u001b[0m\n\u001b[0;32m      1\u001b[0m \u001b[1;31m#라이브러리 호출\u001b[0m\u001b[1;33m\u001b[0m\u001b[1;33m\u001b[0m\u001b[1;33m\u001b[0m\u001b[0m\n\u001b[1;32m----> 2\u001b[1;33m \u001b[1;32mimport\u001b[0m \u001b[0mcv2\u001b[0m\u001b[1;33m\u001b[0m\u001b[1;33m\u001b[0m\u001b[0m\n\u001b[0m\u001b[0;32m      3\u001b[0m \u001b[1;32mimport\u001b[0m \u001b[0mos\u001b[0m\u001b[1;33m\u001b[0m\u001b[1;33m\u001b[0m\u001b[0m\n\u001b[0;32m      4\u001b[0m \u001b[1;32mimport\u001b[0m \u001b[0msubprocess\u001b[0m\u001b[1;33m\u001b[0m\u001b[1;33m\u001b[0m\u001b[0m\n\u001b[0;32m      5\u001b[0m \u001b[1;32mfrom\u001b[0m \u001b[0mPIL\u001b[0m \u001b[1;32mimport\u001b[0m \u001b[0mImage\u001b[0m\u001b[1;33m\u001b[0m\u001b[1;33m\u001b[0m\u001b[0m\n",
      "\u001b[1;31mModuleNotFoundError\u001b[0m: No module named 'cv2'"
     ]
    }
   ],
   "source": [
    "#라이브러리 호출\n",
    "import cv2\n",
    "import os\n",
    "import subprocess\n",
    "from PIL import Image\n",
    "import shutil\n",
    "from pathlib import Path\n",
    "import time\n",
    "from datetime import date, time, datetime\n",
    "from setproctitle import *\n",
    "from shutil import move\n",
    "import glob"
   ]
  },
  {
   "cell_type": "code",
   "execution_count": 4,
   "metadata": {},
   "outputs": [],
   "source": [
    "class CImageValidator:\n",
    "    \n",
    "    def __init__(self, video_path, image_folder):\n",
    "        self.video_path = video_path\n",
    "        self.image_folder = image_folder    \n",
    "        \n",
    "        \n",
    "        \n",
    "    def CheckVideoInfo(self,video_path):           # 비디오 정보 출력\n",
    "        path = r\"C:\\Users\\CJ4DPLEX\\Pyhton\"\n",
    "        filePath = os.path.join(path, self.video_path)\n",
    "        \n",
    "        try:\n",
    "            if os.path.isfile(filePath):               # 해당 파일이 있는지 확인\n",
    "                video = cv2.VideoCapture(filePath)     # 영상 객체(파일) 가져오기\n",
    "                print(\"파일이 존재합니다.\")\n",
    "\n",
    "                length = int(video.get(cv2.CAP_PROP_FRAME_COUNT))\n",
    "                width = int(video.get(cv2.CAP_PROP_FRAME_WIDTH))\n",
    "                height = int(video.get(cv2.CAP_PROP_FRAME_HEIGHT))\n",
    "                fps = video.get(cv2.CAP_PROP_FPS)            \n",
    "                print(\"length :\", length)\n",
    "                print(\"width :\", width)\n",
    "                print(\"height :\", height)\n",
    "                print(\"fps :\", fps, \"\\n\")\n",
    "                \n",
    "                if not os.path.exists(self.video_path[:-4]):\n",
    "                    direc=os.makedirs(self.video_path[:-4])\n",
    "                    print(\"{} 디렉토리 생성 \\n\".format(self.video_path[:-4]))\n",
    "                    os.system('ffmpeg -ss 00:00:00 -i {} -s 1280x534 .\\\\{}\\\\%d.png'.format(self.video_path, self.video_path[:-4]))\n",
    "                else:\n",
    "                    print(\"이미 디렉토리가 존재합니다.\")\n",
    "                \n",
    "\n",
    "            else:\n",
    "                print(\"파일이 존재하지 않습니다.\")              \n",
    "        except OSError:\n",
    "            print('Error: Creating directory. ' +  self.video_path[:-4]) \n",
    "            \n",
    "            \n",
    "            \n",
    "    def ImageSizeList(self, video_path):     # 이미지 크기가 0인거 찾기 \n",
    "        root_dir = r'C:\\Users\\Pyhton\\{}'.format(self.video_path[:-4])         \n",
    "        img_path_list = []\n",
    "        img_zero_list = []\n",
    "        img_good_list = []\n",
    "        \n",
    "        for file in os.listdir(root_dir):\n",
    "            img_path_list.append(file)\n",
    "            \n",
    "        for ff in img_path_list:\n",
    "            os.chdir(r'C:\\Users\\Pyhton\\{}'.format(self.video_path[:-4]))\n",
    "            size = os.path.getsize(ff)\n",
    "            \n",
    "            if size == 0:\n",
    "                img_zero_list.append(ff)\n",
    "            else:\n",
    "                img_good_list.append(ff)\n",
    "                \n",
    "        print(\"크기가 0인 이미지 파일 = \",img_zero_list)\n",
    "        os.chdir(r\"C:\\Users\\Pyhton\")\n",
    "        \n",
    "        \n",
    "        \n",
    "        \n",
    "    def ImageOrderCheck(self, video_path):            #이미지 순서 체크\n",
    "        path = r\"C:\\Users\\Pyhton\"\n",
    "        filePath = os.path.join(path, self.video_path)        \n",
    "        dirList = os.listdir(filePath[:-4])\n",
    "        \n",
    "        new_list1 = []        # 확장자 제거\n",
    "        new_list2 = []        # 0 제거\n",
    "                \n",
    "        countDir = len(dirList)  # 폴더 안의 이미지 갯수        \n",
    "        video = cv2.VideoCapture(filePath)  \n",
    "        length = int(video.get(cv2.CAP_PROP_FRAME_COUNT)) # FrameCount\n",
    "\n",
    "        if countDir == length:\n",
    "            print(\"이미지의 수와 프레임의 수가 같음\")\n",
    "            \n",
    "        else:\n",
    "            print(\"이미지의 수와 프레임의 수가 다름<문제 발생>\")\n",
    "            print(\"프레임의 수 : \" , length)\n",
    "            print(\"이미지의 수 : \" , countDir)   \n",
    "\n",
    "            for dirL in dirList:\n",
    "                new_list1.append(dirL[:-4])\n",
    "\n",
    "            for new_num in new_list1:\n",
    "                while new_num[0]==\"0\":\n",
    "                    new_num=new_num[1:]\n",
    "                new_list2.append(int(new_num))\n",
    "    \n",
    "\n",
    "            countDir = len(dirList)  # 폴더 안의 동영상 이미지 갯수        \n",
    "            video = cv2.VideoCapture(filePath)  \n",
    "            length = int(video.get(cv2.CAP_PROP_FRAME_COUNT)) # FrameCount\n",
    "\n",
    "            no_num_list = []\n",
    "            for i in range(1, length+1):\n",
    "                if i not in new_list2:\n",
    "                    no_num_list.append(i)\n",
    "            print(\"빠진 파일의 숫자 : \", no_num_list)\n",
    "\n",
    "            "
   ]
  },
  {
   "cell_type": "code",
   "execution_count": 5,
   "metadata": {},
   "outputs": [],
   "source": [
    "Clmage = CImageValidator(\"spider_cut.mp4\", None)"
   ]
  },
  {
   "cell_type": "code",
   "execution_count": 11,
   "metadata": {},
   "outputs": [
    {
     "ename": "TypeError",
     "evalue": "CheckVideoInfo() takes 2 positional arguments but 3 were given",
     "output_type": "error",
     "traceback": [
      "\u001b[1;31m---------------------------------------------------------------------------\u001b[0m",
      "\u001b[1;31mTypeError\u001b[0m                                 Traceback (most recent call last)",
      "\u001b[1;32m~\\AppData\\Local\\Temp/ipykernel_3272/1919499816.py\u001b[0m in \u001b[0;36m<module>\u001b[1;34m\u001b[0m\n\u001b[1;32m----> 1\u001b[1;33m \u001b[0mClmage\u001b[0m\u001b[1;33m.\u001b[0m\u001b[0mCheckVideoInfo\u001b[0m\u001b[1;33m(\u001b[0m\u001b[1;32mNone\u001b[0m\u001b[1;33m,\u001b[0m \u001b[1;32mNone\u001b[0m\u001b[1;33m)\u001b[0m\u001b[1;33m\u001b[0m\u001b[1;33m\u001b[0m\u001b[0m\n\u001b[0m",
      "\u001b[1;31mTypeError\u001b[0m: CheckVideoInfo() takes 2 positional arguments but 3 were given"
     ]
    }
   ],
   "source": [
    "Clmage.CheckVideoInfo(None, None)"
   ]
  },
  {
   "cell_type": "code",
   "execution_count": 7,
   "metadata": {},
   "outputs": [
    {
     "ename": "FileNotFoundError",
     "evalue": "[WinError 3] 지정된 경로를 찾을 수 없습니다: 'C:\\\\Users\\\\CJ4DPLEX\\\\Pyhton\\\\spider_cut'",
     "output_type": "error",
     "traceback": [
      "\u001b[1;31m---------------------------------------------------------------------------\u001b[0m",
      "\u001b[1;31mFileNotFoundError\u001b[0m                         Traceback (most recent call last)",
      "\u001b[1;32m~\\AppData\\Local\\Temp/ipykernel_3272/3140413076.py\u001b[0m in \u001b[0;36m<module>\u001b[1;34m\u001b[0m\n\u001b[1;32m----> 1\u001b[1;33m \u001b[0mClmage\u001b[0m\u001b[1;33m.\u001b[0m\u001b[0mImageSizeList\u001b[0m\u001b[1;33m(\u001b[0m\u001b[1;34m\"jurrasic_test.mp4\"\u001b[0m\u001b[1;33m)\u001b[0m\u001b[1;33m\u001b[0m\u001b[1;33m\u001b[0m\u001b[0m\n\u001b[0m",
      "\u001b[1;32m~\\AppData\\Local\\Temp/ipykernel_3272/2942903525.py\u001b[0m in \u001b[0;36mImageSizeList\u001b[1;34m(self, video_path)\u001b[0m\n\u001b[0;32m     46\u001b[0m         \u001b[0mimg_good_list\u001b[0m \u001b[1;33m=\u001b[0m \u001b[1;33m[\u001b[0m\u001b[1;33m]\u001b[0m\u001b[1;33m\u001b[0m\u001b[1;33m\u001b[0m\u001b[0m\n\u001b[0;32m     47\u001b[0m \u001b[1;33m\u001b[0m\u001b[0m\n\u001b[1;32m---> 48\u001b[1;33m         \u001b[1;32mfor\u001b[0m \u001b[0mfile\u001b[0m \u001b[1;32min\u001b[0m \u001b[0mos\u001b[0m\u001b[1;33m.\u001b[0m\u001b[0mlistdir\u001b[0m\u001b[1;33m(\u001b[0m\u001b[0mroot_dir\u001b[0m\u001b[1;33m)\u001b[0m\u001b[1;33m:\u001b[0m\u001b[1;33m\u001b[0m\u001b[1;33m\u001b[0m\u001b[0m\n\u001b[0m\u001b[0;32m     49\u001b[0m             \u001b[0mimg_path_list\u001b[0m\u001b[1;33m.\u001b[0m\u001b[0mappend\u001b[0m\u001b[1;33m(\u001b[0m\u001b[0mfile\u001b[0m\u001b[1;33m)\u001b[0m\u001b[1;33m\u001b[0m\u001b[1;33m\u001b[0m\u001b[0m\n\u001b[0;32m     50\u001b[0m \u001b[1;33m\u001b[0m\u001b[0m\n",
      "\u001b[1;31mFileNotFoundError\u001b[0m: [WinError 3] 지정된 경로를 찾을 수 없습니다: 'C:\\\\Users\\\\CJ4DPLEX\\\\Pyhton\\\\spider_cut'"
     ]
    }
   ],
   "source": [
    "Clmage.ImageSizeList(\"jurrasic_test.mp4\")"
   ]
  },
  {
   "cell_type": "code",
   "execution_count": 8,
   "metadata": {},
   "outputs": [
    {
     "ename": "FileNotFoundError",
     "evalue": "[WinError 3] 지정된 경로를 찾을 수 없습니다: 'C:\\\\Users\\\\CJ4DPLEX\\\\Pyhton\\\\spider_cut'",
     "output_type": "error",
     "traceback": [
      "\u001b[1;31m---------------------------------------------------------------------------\u001b[0m",
      "\u001b[1;31mFileNotFoundError\u001b[0m                         Traceback (most recent call last)",
      "\u001b[1;32m~\\AppData\\Local\\Temp/ipykernel_3272/1274942662.py\u001b[0m in \u001b[0;36m<module>\u001b[1;34m\u001b[0m\n\u001b[1;32m----> 1\u001b[1;33m \u001b[0mClmage\u001b[0m\u001b[1;33m.\u001b[0m\u001b[0mImageOrderCheck\u001b[0m\u001b[1;33m(\u001b[0m\u001b[1;34m\"jurrasic_test.mp4\"\u001b[0m\u001b[1;33m)\u001b[0m\u001b[1;33m\u001b[0m\u001b[1;33m\u001b[0m\u001b[0m\n\u001b[0m",
      "\u001b[1;32m~\\AppData\\Local\\Temp/ipykernel_3272/2942903525.py\u001b[0m in \u001b[0;36mImageOrderCheck\u001b[1;34m(self, video_path)\u001b[0m\n\u001b[0;32m     67\u001b[0m         \u001b[0mpath\u001b[0m \u001b[1;33m=\u001b[0m \u001b[1;34mr\"C:\\Users\\CJ4DPLEX\\Pyhton\"\u001b[0m\u001b[1;33m\u001b[0m\u001b[1;33m\u001b[0m\u001b[0m\n\u001b[0;32m     68\u001b[0m         \u001b[0mfilePath\u001b[0m \u001b[1;33m=\u001b[0m \u001b[0mos\u001b[0m\u001b[1;33m.\u001b[0m\u001b[0mpath\u001b[0m\u001b[1;33m.\u001b[0m\u001b[0mjoin\u001b[0m\u001b[1;33m(\u001b[0m\u001b[0mpath\u001b[0m\u001b[1;33m,\u001b[0m \u001b[0mself\u001b[0m\u001b[1;33m.\u001b[0m\u001b[0mvideo_path\u001b[0m\u001b[1;33m)\u001b[0m\u001b[1;33m\u001b[0m\u001b[1;33m\u001b[0m\u001b[0m\n\u001b[1;32m---> 69\u001b[1;33m         \u001b[0mdirList\u001b[0m \u001b[1;33m=\u001b[0m \u001b[0mos\u001b[0m\u001b[1;33m.\u001b[0m\u001b[0mlistdir\u001b[0m\u001b[1;33m(\u001b[0m\u001b[0mfilePath\u001b[0m\u001b[1;33m[\u001b[0m\u001b[1;33m:\u001b[0m\u001b[1;33m-\u001b[0m\u001b[1;36m4\u001b[0m\u001b[1;33m]\u001b[0m\u001b[1;33m)\u001b[0m\u001b[1;33m\u001b[0m\u001b[1;33m\u001b[0m\u001b[0m\n\u001b[0m\u001b[0;32m     70\u001b[0m \u001b[1;33m\u001b[0m\u001b[0m\n\u001b[0;32m     71\u001b[0m         \u001b[0mnew_list1\u001b[0m \u001b[1;33m=\u001b[0m \u001b[1;33m[\u001b[0m\u001b[1;33m]\u001b[0m        \u001b[1;31m# 확장자 제거\u001b[0m\u001b[1;33m\u001b[0m\u001b[1;33m\u001b[0m\u001b[0m\n",
      "\u001b[1;31mFileNotFoundError\u001b[0m: [WinError 3] 지정된 경로를 찾을 수 없습니다: 'C:\\\\Users\\\\CJ4DPLEX\\\\Pyhton\\\\spider_cut'"
     ]
    }
   ],
   "source": [
    "Clmage.ImageOrderCheck(\"jurrasic_test.mp4\")"
   ]
  },
  {
   "cell_type": "code",
   "execution_count": null,
   "metadata": {},
   "outputs": [],
   "source": []
  },
  {
   "cell_type": "code",
   "execution_count": null,
   "metadata": {},
   "outputs": [],
   "source": []
  }
 ],
 "metadata": {
  "kernelspec": {
   "display_name": "Python 3 (ipykernel)",
   "language": "python",
   "name": "python3"
  },
  "language_info": {
   "codemirror_mode": {
    "name": "ipython",
    "version": 3
   },
   "file_extension": ".py",
   "mimetype": "text/x-python",
   "name": "python",
   "nbconvert_exporter": "python",
   "pygments_lexer": "ipython3",
   "version": "3.9.7"
  }
 },
 "nbformat": 4,
 "nbformat_minor": 4
}
